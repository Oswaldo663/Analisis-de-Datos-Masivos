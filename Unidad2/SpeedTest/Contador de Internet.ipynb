{
 "cells": [
  {
   "cell_type": "markdown",
   "metadata": {},
   "source": [
    "![](TN-comunidades-Instituto-Tecnologico-de-Durango.png)\n",
    " \n",
    "<div style = \"Text-align: center\">\n",
    "    \n",
    "# Analisis de datos masivos\n",
    "## Contador de Internet\n",
    "## Nombre del docente \n",
    "### Jose Gabriel Rodriguez Rivas\n",
    "## Nombre del alumno\n",
    "### Oswaldo Zura Alvarado\n",
    "    \n",
    "</div>"
   ]
  },
  {
   "cell_type": "code",
   "execution_count": 1,
   "metadata": {},
   "outputs": [],
   "source": [
    "import datetime\n",
    "import csv\n",
    "import subprocess"
   ]
  },
  {
   "cell_type": "code",
   "execution_count": 2,
   "metadata": {
    "tags": []
   },
   "outputs": [
    {
     "name": "stdout",
     "output_type": "stream",
     "text": [
      "2020-07-23 22:24:13.126800 <class 'datetime.datetime'>\n"
     ]
    }
   ],
   "source": [
    "date_time = datetime.datetime.now()\n",
    "print(date_time, type(date_time))"
   ]
  },
  {
   "cell_type": "code",
   "execution_count": 3,
   "metadata": {},
   "outputs": [
    {
     "data": {
      "text/plain": [
       "'Thu, 23 Jul 2020 22:24:13'"
      ]
     },
     "execution_count": 3,
     "metadata": {},
     "output_type": "execute_result"
    }
   ],
   "source": [
    "date_time.strftime('%a, %d %b %Y %H:%M:%S')"
   ]
  },
  {
   "cell_type": "code",
   "execution_count": 4,
   "metadata": {},
   "outputs": [],
   "source": [
    "speedtest_cmd = \"speedtest-cli --simple\"\n",
    "\n",
    "process = subprocess.Popen(speedtest_cmd.split(), stdout=subprocess.PIPE)\n",
    "\n",
    "process_output = process.communicate()[0]"
   ]
  },
  {
   "cell_type": "code",
   "execution_count": 5,
   "metadata": {
    "tags": []
   },
   "outputs": [
    {
     "name": "stdout",
     "output_type": "stream",
     "text": [
      "b'Ping: 29.929 ms\\r\\nDownload: 5.71 Mbit/s\\r\\nUpload: 0.70 Mbit/s\\r\\n' <class 'bytes'>\n"
     ]
    }
   ],
   "source": [
    "print(process_output, type(process_output))"
   ]
  },
  {
   "cell_type": "code",
   "execution_count": 6,
   "metadata": {
    "tags": []
   },
   "outputs": [
    {
     "name": "stdout",
     "output_type": "stream",
     "text": [
      "['Ping:', '29.929', 'ms', 'Download:', '5.71', 'Mbit/s', 'Upload:', '0.70', 'Mbit/s', '2020-07-23 22:26:31'] <class 'list'>\n"
     ]
    }
   ],
   "source": [
    "date_time = datetime.datetime.now().strftime(\"%Y-%m-%d %H:%M:%S\")\n",
    "process_output = process_output.decode()\n",
    "process_output = process_output.split()\n",
    "process_output.append(date_time)\n",
    "print(process_output, type(process_output))"
   ]
  },
  {
   "cell_type": "code",
   "execution_count": 7,
   "metadata": {},
   "outputs": [],
   "source": [
    "def speedtest():\n",
    "    \n",
    "    date_time = datetime.datetime.now().strftime(\"%Y-%m-%d %H:%M:%S\")\n",
    "    \n",
    "    speedtest_cmd = \"speedtest-cli --simple\"\n",
    "     \n",
    "    process = subprocess.Popen(speedtest_cmd.split(), stdout=subprocess.PIPE)\n",
    "    process_output = process.communicate()[0]\n",
    "    process_output = process_output.decode()\n",
    "    process_output = process_output.split()\n",
    "     \n",
    "    process_output.append(date_time)\n",
    "    \n",
    "    return process_output"
   ]
  },
  {
   "cell_type": "code",
   "execution_count": 8,
   "metadata": {},
   "outputs": [
    {
     "data": {
      "text/plain": [
       "['Ping:',\n",
       " '29.929',\n",
       " 'ms',\n",
       " 'Download:',\n",
       " '5.71',\n",
       " 'Mbit/s',\n",
       " 'Upload:',\n",
       " '0.70',\n",
       " 'Mbit/s',\n",
       " '2020-07-23 22:26:31']"
      ]
     },
     "execution_count": 8,
     "metadata": {},
     "output_type": "execute_result"
    }
   ],
   "source": [
    "process_output"
   ]
  },
  {
   "cell_type": "code",
   "execution_count": 9,
   "metadata": {},
   "outputs": [],
   "source": [
    "with open(\"./test.txt\",'w') as f:\n",
    "    f.write('test_msg')"
   ]
  },
  {
   "cell_type": "code",
   "execution_count": 10,
   "metadata": {
    "tags": []
   },
   "outputs": [
    {
     "name": "stdout",
     "output_type": "stream",
     "text": [
      "test_msg\n"
     ]
    }
   ],
   "source": [
    "with open(\"./test.txt\",'r') as f:\n",
    "    str = f.read()\n",
    "print(str)"
   ]
  },
  {
   "cell_type": "code",
   "execution_count": 11,
   "metadata": {},
   "outputs": [],
   "source": [
    "def save_to_csv(data, filename):\n",
    "    try:\n",
    "        with open(filename + '.csv', 'a') as f:\n",
    "\n",
    "            wr = csv.writer(f)\n",
    "\n",
    "            wr.writerow(data)\n",
    "    except:\n",
    "        with open(filename + '.csv', 'w') as f:\n",
    "\n",
    "            wr = csv.writer(f)\n",
    "\n",
    "            wr.writerow(data)"
   ]
  },
  {
   "cell_type": "code",
   "execution_count": 12,
   "metadata": {},
   "outputs": [],
   "source": [
    "def print_from_csv(filename): \n",
    "    with open(filename + '.csv', 'r') as f:\n",
    "        re = csv.reader(f)\n",
    "        for row in re:\n",
    "            print(row)"
   ]
  },
  {
   "cell_type": "code",
   "execution_count": 13,
   "metadata": {
    "tags": []
   },
   "outputs": [
    {
     "name": "stdout",
     "output_type": "stream",
     "text": [
      "Test number 0\n",
      "['Ping:', '40.768', 'ms', 'Download:', '4.35', 'Mbit/s', 'Upload:', '0.64', 'Mbit/s', '2020-07-23 22:27:13']\n",
      "Test number 1\n",
      "['Ping:', '30.336', 'ms', 'Download:', '3.59', 'Mbit/s', 'Upload:', '0.63', 'Mbit/s', '2020-07-23 22:28:13']\n",
      "Test number 2\n",
      "['Ping:', '36.508', 'ms', 'Download:', '3.49', 'Mbit/s', 'Upload:', '0.69', 'Mbit/s', '2020-07-23 22:29:23']\n",
      "Test number 3\n",
      "['Ping:', '25.276', 'ms', 'Download:', '3.69', 'Mbit/s', 'Upload:', '0.66', 'Mbit/s', '2020-07-23 22:30:25']\n",
      "Test number 4\n",
      "['Ping:', '87.84', 'ms', 'Download:', '7.53', 'Mbit/s', 'Upload:', '0.64', 'Mbit/s', '2020-07-23 22:31:28']\n",
      "Test number 5\n",
      "['Ping:', '36.531', 'ms', 'Download:', '7.79', 'Mbit/s', 'Upload:', '0.67', 'Mbit/s', '2020-07-23 22:32:34']\n",
      "Test number 6\n",
      "['Ping:', '24.646', 'ms', 'Download:', '7.81', 'Mbit/s', 'Upload:', '0.65', 'Mbit/s', '2020-07-23 22:33:43']\n",
      "Test number 7\n",
      "['Ping:', '26.524', 'ms', 'Download:', '7.83', 'Mbit/s', 'Upload:', '0.62', 'Mbit/s', '2020-07-23 22:34:45']\n",
      "Test number 8\n",
      "['Ping:', '28.006', 'ms', 'Download:', '6.29', 'Mbit/s', 'Upload:', '0.67', 'Mbit/s', '2020-07-23 22:35:47']\n",
      "Test number 9\n",
      "['Ping:', '25.756', 'ms', 'Download:', '7.61', 'Mbit/s', 'Upload:', '0.53', 'Mbit/s', '2020-07-23 22:36:47']\n"
     ]
    }
   ],
   "source": [
    "for i in range(10):\n",
    "\n",
    "    speedtest_output = speedtest()\n",
    "\n",
    "    print('Test number {}'.format(i))\n",
    "    print(speedtest_output)\n",
    "    \n",
    "    save_to_csv(speedtest_output, './rpi_data_test')"
   ]
  },
  {
   "cell_type": "code",
   "execution_count": 14,
   "metadata": {
    "tags": []
   },
   "outputs": [
    {
     "name": "stdout",
     "output_type": "stream",
     "text": [
      "['Ping:', '19.866', 'ms', 'Download:', '5.25', 'Mbit/s', 'Upload:', '0.85', 'Mbit/s', '2020-07-21 18:50:14']\n",
      "['Ping:', '17.126', 'ms', 'Download:', '4.47', 'Mbit/s', 'Upload:', '1.11', 'Mbit/s', '2020-07-21 18:50:52']\n",
      "['Ping:', '16.582', 'ms', 'Download:', '6.94', 'Mbit/s', 'Upload:', '1.03', 'Mbit/s', '2020-07-21 18:51:26']\n",
      "['Ping:', '20.182', 'ms', 'Download:', '7.28', 'Mbit/s', 'Upload:', '1.10', 'Mbit/s', '2020-07-21 18:52:03']\n",
      "['Ping:', '19.884', 'ms', 'Download:', '7.26', 'Mbit/s', 'Upload:', '1.09', 'Mbit/s', '2020-07-21 18:52:36']\n",
      "['Ping:', '17.974', 'ms', 'Download:', '6.17', 'Mbit/s', 'Upload:', '0.81', 'Mbit/s', '2020-07-21 18:53:14']\n",
      "['Ping:', '19.989', 'ms', 'Download:', '6.22', 'Mbit/s', 'Upload:', '1.12', 'Mbit/s', '2020-07-21 18:53:50']\n",
      "['Ping:', '20.008', 'ms', 'Download:', '7.21', 'Mbit/s', 'Upload:', '0.93', 'Mbit/s', '2020-07-21 18:54:28']\n",
      "['Ping:', '54.735', 'ms', 'Download:', '7.23', 'Mbit/s', 'Upload:', '1.04', 'Mbit/s', '2020-07-21 18:55:05']\n",
      "['Ping:', '20.141', 'ms', 'Download:', '7.52', 'Mbit/s', 'Upload:', '0.99', 'Mbit/s', '2020-07-21 18:55:37']\n",
      "['Ping:', '21.865', 'ms', 'Download:', '7.66', 'Mbit/s', 'Upload:', '0.94', 'Mbit/s', '2020-07-22 09:45:54']\n",
      "['Ping:', '16.51', 'ms', 'Download:', '7.09', 'Mbit/s', 'Upload:', '0.98', 'Mbit/s', '2020-07-22 09:46:30']\n",
      "['Ping:', '135.168', 'ms', 'Download:', '3.32', 'Mbit/s', 'Upload:', '0.87', 'Mbit/s', '2020-07-22 09:47:01']\n",
      "['Ping:', '49.759', 'ms', 'Download:', '4.81', 'Mbit/s', 'Upload:', '0.86', 'Mbit/s', '2020-07-22 09:47:38']\n",
      "['Ping:', '16.519', 'ms', 'Download:', '5.73', 'Mbit/s', 'Upload:', '0.75', 'Mbit/s', '2020-07-22 09:48:12']\n",
      "['Ping:', '20.215', 'ms', 'Download:', '4.40', 'Mbit/s', 'Upload:', '0.85', 'Mbit/s', '2020-07-22 09:48:42']\n",
      "['Ping:', '22.939', 'ms', 'Download:', '5.10', 'Mbit/s', 'Upload:', '0.91', 'Mbit/s', '2020-07-22 09:49:13']\n",
      "['Ping:', '58.328', 'ms', 'Download:', '2.79', 'Mbit/s', 'Upload:', '1.22', 'Mbit/s', '2020-07-22 09:49:51']\n",
      "['Ping:', '19.87', 'ms', 'Download:', '5.63', 'Mbit/s', 'Upload:', '1.04', 'Mbit/s', '2020-07-22 09:50:26']\n",
      "['Ping:', '21.515', 'ms', 'Download:', '7.29', 'Mbit/s', 'Upload:', '0.95', 'Mbit/s', '2020-07-22 09:51:06']\n",
      "['Ping:', '27.48', 'ms', 'Download:', '5.90', 'Mbit/s', 'Upload:', '0.65', 'Mbit/s', '2020-07-23 20:32:54']\n",
      "[]\n",
      "['Ping:', '31.455', 'ms', 'Download:', '0.85', 'Mbit/s', 'Upload:', '0.63', 'Mbit/s', '2020-07-23 20:33:54']\n",
      "[]\n",
      "['Ping:', '68.095', 'ms', 'Download:', '4.50', 'Mbit/s', 'Upload:', '0.69', 'Mbit/s', '2020-07-23 20:35:04']\n",
      "[]\n",
      "['Ping:', '26.997', 'ms', 'Download:', '7.78', 'Mbit/s', 'Upload:', '0.80', 'Mbit/s', '2020-07-23 20:57:50']\n",
      "[]\n",
      "['Ping:', '23.66', 'ms', 'Download:', '7.83', 'Mbit/s', 'Upload:', '0.67', 'Mbit/s', '2020-07-23 20:58:48']\n",
      "[]\n",
      "['Ping:', '29.736', 'ms', 'Download:', '7.78', 'Mbit/s', 'Upload:', '0.79', 'Mbit/s', '2020-07-23 20:59:51']\n",
      "[]\n",
      "['Ping:', '30.907', 'ms', 'Download:', '7.74', 'Mbit/s', 'Upload:', '0.64', 'Mbit/s', '2020-07-23 21:00:49']\n",
      "[]\n",
      "['Ping:', '27.053', 'ms', 'Download:', '7.88', 'Mbit/s', 'Upload:', '0.83', 'Mbit/s', '2020-07-23 21:01:53']\n",
      "[]\n",
      "['Ping:', '24.264', 'ms', 'Download:', '7.87', 'Mbit/s', 'Upload:', '0.79', 'Mbit/s', '2020-07-23 21:02:49']\n",
      "[]\n",
      "['Ping:', '23.926', 'ms', 'Download:', '7.78', 'Mbit/s', 'Upload:', '0.66', 'Mbit/s', '2020-07-23 21:03:50']\n",
      "[]\n",
      "['Ping:', '23.805', 'ms', 'Download:', '7.90', 'Mbit/s', 'Upload:', '0.67', 'Mbit/s', '2020-07-23 21:04:53']\n",
      "[]\n",
      "['Ping:', '25.304', 'ms', 'Download:', '7.48', 'Mbit/s', 'Upload:', '0.64', 'Mbit/s', '2020-07-23 21:05:53']\n",
      "[]\n",
      "['Ping:', '28.858', 'ms', 'Download:', '7.86', 'Mbit/s', 'Upload:', '0.66', 'Mbit/s', '2020-07-23 21:06:54']\n",
      "[]\n",
      "['Ping:', '26.185', 'ms', 'Download:', '7.51', 'Mbit/s', 'Upload:', '0.64', 'Mbit/s', '2020-07-23 21:18:43']\n",
      "[]\n",
      "['Ping:', '30.486', 'ms', 'Download:', '7.86', 'Mbit/s', 'Upload:', '0.67', 'Mbit/s', '2020-07-23 21:19:43']\n",
      "[]\n",
      "['Ping:', '28.71', 'ms', 'Download:', '7.90', 'Mbit/s', 'Upload:', '0.64', 'Mbit/s', '2020-07-23 21:20:43']\n",
      "[]\n",
      "['Ping:', '24.206', 'ms', 'Download:', '7.54', 'Mbit/s', 'Upload:', '0.66', 'Mbit/s', '2020-07-23 21:21:44']\n",
      "[]\n",
      "['Ping:', '26.697', 'ms', 'Download:', '7.21', 'Mbit/s', 'Upload:', '0.64', 'Mbit/s', '2020-07-23 21:22:45']\n",
      "[]\n",
      "['Ping:', '24.902', 'ms', 'Download:', '6.03', 'Mbit/s', 'Upload:', '0.65', 'Mbit/s', '2020-07-23 21:23:46']\n",
      "[]\n",
      "['Ping:', '29.33', 'ms', 'Download:', '7.90', 'Mbit/s', 'Upload:', '0.64', 'Mbit/s', '2020-07-23 21:24:47']\n",
      "[]\n",
      "['Ping:', '24.187', 'ms', 'Download:', '7.82', 'Mbit/s', 'Upload:', '0.64', 'Mbit/s', '2020-07-23 21:25:50']\n",
      "[]\n",
      "['Ping:', '26.391', 'ms', 'Download:', '7.52', 'Mbit/s', 'Upload:', '0.66', 'Mbit/s', '2020-07-23 21:26:51']\n",
      "[]\n",
      "['Ping:', '26.848', 'ms', 'Download:', '7.87', 'Mbit/s', 'Upload:', '0.65', 'Mbit/s', '2020-07-23 21:27:54']\n",
      "[]\n",
      "['Ping:', '40.768', 'ms', 'Download:', '4.35', 'Mbit/s', 'Upload:', '0.64', 'Mbit/s', '2020-07-23 22:27:13']\n",
      "[]\n",
      "['Ping:', '30.336', 'ms', 'Download:', '3.59', 'Mbit/s', 'Upload:', '0.63', 'Mbit/s', '2020-07-23 22:28:13']\n",
      "[]\n",
      "['Ping:', '36.508', 'ms', 'Download:', '3.49', 'Mbit/s', 'Upload:', '0.69', 'Mbit/s', '2020-07-23 22:29:23']\n",
      "[]\n",
      "['Ping:', '25.276', 'ms', 'Download:', '3.69', 'Mbit/s', 'Upload:', '0.66', 'Mbit/s', '2020-07-23 22:30:25']\n",
      "[]\n",
      "['Ping:', '87.84', 'ms', 'Download:', '7.53', 'Mbit/s', 'Upload:', '0.64', 'Mbit/s', '2020-07-23 22:31:28']\n",
      "[]\n",
      "['Ping:', '36.531', 'ms', 'Download:', '7.79', 'Mbit/s', 'Upload:', '0.67', 'Mbit/s', '2020-07-23 22:32:34']\n",
      "[]\n",
      "['Ping:', '24.646', 'ms', 'Download:', '7.81', 'Mbit/s', 'Upload:', '0.65', 'Mbit/s', '2020-07-23 22:33:43']\n",
      "[]\n",
      "['Ping:', '26.524', 'ms', 'Download:', '7.83', 'Mbit/s', 'Upload:', '0.62', 'Mbit/s', '2020-07-23 22:34:45']\n",
      "[]\n",
      "['Ping:', '28.006', 'ms', 'Download:', '6.29', 'Mbit/s', 'Upload:', '0.67', 'Mbit/s', '2020-07-23 22:35:47']\n",
      "[]\n",
      "['Ping:', '25.756', 'ms', 'Download:', '7.61', 'Mbit/s', 'Upload:', '0.53', 'Mbit/s', '2020-07-23 22:36:47']\n",
      "[]\n"
     ]
    }
   ],
   "source": [
    "print_from_csv('./rpi_data_test')"
   ]
  },
  {
   "cell_type": "code",
   "execution_count": 15,
   "metadata": {},
   "outputs": [],
   "source": [
    "import pandas as pd\n",
    "import numpy as np"
   ]
  },
  {
   "cell_type": "code",
   "execution_count": 16,
   "metadata": {},
   "outputs": [],
   "source": [
    "data_file = './rpi_data_long.csv'\n",
    "\n",
    "column_names = [ \n",
    "    'Type A', 'Measure A', 'Units A',\n",
    "    'Type B', 'Measure B', 'Units B',\n",
    "    'Type C', 'Measure C', 'Units C', \n",
    "    'Datetime'\n",
    "    ]\n",
    "\n",
    "with open(data_file, 'r', encoding = 'utf-8') as f:\n",
    "    df_redundant = pd.read_csv(f, names = column_names)"
   ]
  },
  {
   "cell_type": "code",
   "execution_count": 17,
   "metadata": {},
   "outputs": [
    {
     "data": {
      "text/html": [
       "<div>\n",
       "<style scoped>\n",
       "    .dataframe tbody tr th:only-of-type {\n",
       "        vertical-align: middle;\n",
       "    }\n",
       "\n",
       "    .dataframe tbody tr th {\n",
       "        vertical-align: top;\n",
       "    }\n",
       "\n",
       "    .dataframe thead th {\n",
       "        text-align: right;\n",
       "    }\n",
       "</style>\n",
       "<table border=\"1\" class=\"dataframe\">\n",
       "  <thead>\n",
       "    <tr style=\"text-align: right;\">\n",
       "      <th></th>\n",
       "      <th>Type A</th>\n",
       "      <th>Measure A</th>\n",
       "      <th>Units A</th>\n",
       "      <th>Type B</th>\n",
       "      <th>Measure B</th>\n",
       "      <th>Units B</th>\n",
       "      <th>Type C</th>\n",
       "      <th>Measure C</th>\n",
       "      <th>Units C</th>\n",
       "      <th>Datetime</th>\n",
       "    </tr>\n",
       "  </thead>\n",
       "  <tbody>\n",
       "    <tr>\n",
       "      <th>0</th>\n",
       "      <td>Ping:</td>\n",
       "      <td>26.992</td>\n",
       "      <td>ms</td>\n",
       "      <td>Download:</td>\n",
       "      <td>91.80</td>\n",
       "      <td>Mbit/s</td>\n",
       "      <td>Upload:</td>\n",
       "      <td>14.31</td>\n",
       "      <td>Mbit/s</td>\n",
       "      <td>2016-11-24 13:36:25</td>\n",
       "    </tr>\n",
       "    <tr>\n",
       "      <th>1</th>\n",
       "      <td>Ping:</td>\n",
       "      <td>24.532</td>\n",
       "      <td>ms</td>\n",
       "      <td>Download:</td>\n",
       "      <td>88.19</td>\n",
       "      <td>Mbit/s</td>\n",
       "      <td>Upload:</td>\n",
       "      <td>14.12</td>\n",
       "      <td>Mbit/s</td>\n",
       "      <td>2016-11-24 13:36:55</td>\n",
       "    </tr>\n",
       "    <tr>\n",
       "      <th>2</th>\n",
       "      <td>Ping:</td>\n",
       "      <td>20.225</td>\n",
       "      <td>ms</td>\n",
       "      <td>Download:</td>\n",
       "      <td>59.86</td>\n",
       "      <td>Mbit/s</td>\n",
       "      <td>Upload:</td>\n",
       "      <td>14.11</td>\n",
       "      <td>Mbit/s</td>\n",
       "      <td>2016-11-24 13:37:25</td>\n",
       "    </tr>\n",
       "    <tr>\n",
       "      <th>3</th>\n",
       "      <td>Ping:</td>\n",
       "      <td>19.332</td>\n",
       "      <td>ms</td>\n",
       "      <td>Download:</td>\n",
       "      <td>91.81</td>\n",
       "      <td>Mbit/s</td>\n",
       "      <td>Upload:</td>\n",
       "      <td>14.22</td>\n",
       "      <td>Mbit/s</td>\n",
       "      <td>2016-11-24 13:37:57</td>\n",
       "    </tr>\n",
       "    <tr>\n",
       "      <th>4</th>\n",
       "      <td>Ping:</td>\n",
       "      <td>22.494</td>\n",
       "      <td>ms</td>\n",
       "      <td>Download:</td>\n",
       "      <td>92.05</td>\n",
       "      <td>Mbit/s</td>\n",
       "      <td>Upload:</td>\n",
       "      <td>14.08</td>\n",
       "      <td>Mbit/s</td>\n",
       "      <td>2016-11-24 13:38:27</td>\n",
       "    </tr>\n",
       "  </tbody>\n",
       "</table>\n",
       "</div>"
      ],
      "text/plain": [
       "  Type A  Measure A Units A     Type B  Measure B Units B   Type C  Measure C  \\\n",
       "0  Ping:     26.992      ms  Download:      91.80  Mbit/s  Upload:      14.31   \n",
       "1  Ping:     24.532      ms  Download:      88.19  Mbit/s  Upload:      14.12   \n",
       "2  Ping:     20.225      ms  Download:      59.86  Mbit/s  Upload:      14.11   \n",
       "3  Ping:     19.332      ms  Download:      91.81  Mbit/s  Upload:      14.22   \n",
       "4  Ping:     22.494      ms  Download:      92.05  Mbit/s  Upload:      14.08   \n",
       "\n",
       "  Units C             Datetime  \n",
       "0  Mbit/s  2016-11-24 13:36:25  \n",
       "1  Mbit/s  2016-11-24 13:36:55  \n",
       "2  Mbit/s  2016-11-24 13:37:25  \n",
       "3  Mbit/s  2016-11-24 13:37:57  \n",
       "4  Mbit/s  2016-11-24 13:38:27  "
      ]
     },
     "execution_count": 17,
     "metadata": {},
     "output_type": "execute_result"
    }
   ],
   "source": [
    "df_redundant.head()"
   ]
  },
  {
   "cell_type": "code",
   "execution_count": 18,
   "metadata": {},
   "outputs": [],
   "source": [
    "df_compact = df_redundant.copy()"
   ]
  },
  {
   "cell_type": "code",
   "execution_count": 19,
   "metadata": {},
   "outputs": [
    {
     "data": {
      "text/html": [
       "<div>\n",
       "<style scoped>\n",
       "    .dataframe tbody tr th:only-of-type {\n",
       "        vertical-align: middle;\n",
       "    }\n",
       "\n",
       "    .dataframe tbody tr th {\n",
       "        vertical-align: top;\n",
       "    }\n",
       "\n",
       "    .dataframe thead th {\n",
       "        text-align: right;\n",
       "    }\n",
       "</style>\n",
       "<table border=\"1\" class=\"dataframe\">\n",
       "  <thead>\n",
       "    <tr style=\"text-align: right;\">\n",
       "      <th></th>\n",
       "      <th>Type A</th>\n",
       "      <th>Ping (ms)</th>\n",
       "      <th>Units A</th>\n",
       "      <th>Type B</th>\n",
       "      <th>Download (Mbit/s)</th>\n",
       "      <th>Units B</th>\n",
       "      <th>Type C</th>\n",
       "      <th>Upload (Mbit/s)</th>\n",
       "      <th>Units C</th>\n",
       "      <th>Datetime</th>\n",
       "    </tr>\n",
       "  </thead>\n",
       "  <tbody>\n",
       "    <tr>\n",
       "      <th>0</th>\n",
       "      <td>Ping:</td>\n",
       "      <td>26.992</td>\n",
       "      <td>ms</td>\n",
       "      <td>Download:</td>\n",
       "      <td>91.80</td>\n",
       "      <td>Mbit/s</td>\n",
       "      <td>Upload:</td>\n",
       "      <td>14.31</td>\n",
       "      <td>Mbit/s</td>\n",
       "      <td>2016-11-24 13:36:25</td>\n",
       "    </tr>\n",
       "    <tr>\n",
       "      <th>1</th>\n",
       "      <td>Ping:</td>\n",
       "      <td>24.532</td>\n",
       "      <td>ms</td>\n",
       "      <td>Download:</td>\n",
       "      <td>88.19</td>\n",
       "      <td>Mbit/s</td>\n",
       "      <td>Upload:</td>\n",
       "      <td>14.12</td>\n",
       "      <td>Mbit/s</td>\n",
       "      <td>2016-11-24 13:36:55</td>\n",
       "    </tr>\n",
       "    <tr>\n",
       "      <th>2</th>\n",
       "      <td>Ping:</td>\n",
       "      <td>20.225</td>\n",
       "      <td>ms</td>\n",
       "      <td>Download:</td>\n",
       "      <td>59.86</td>\n",
       "      <td>Mbit/s</td>\n",
       "      <td>Upload:</td>\n",
       "      <td>14.11</td>\n",
       "      <td>Mbit/s</td>\n",
       "      <td>2016-11-24 13:37:25</td>\n",
       "    </tr>\n",
       "  </tbody>\n",
       "</table>\n",
       "</div>"
      ],
      "text/plain": [
       "  Type A  Ping (ms) Units A     Type B  Download (Mbit/s) Units B   Type C  \\\n",
       "0  Ping:     26.992      ms  Download:              91.80  Mbit/s  Upload:   \n",
       "1  Ping:     24.532      ms  Download:              88.19  Mbit/s  Upload:   \n",
       "2  Ping:     20.225      ms  Download:              59.86  Mbit/s  Upload:   \n",
       "\n",
       "   Upload (Mbit/s) Units C             Datetime  \n",
       "0            14.31  Mbit/s  2016-11-24 13:36:25  \n",
       "1            14.12  Mbit/s  2016-11-24 13:36:55  \n",
       "2            14.11  Mbit/s  2016-11-24 13:37:25  "
      ]
     },
     "execution_count": 19,
     "metadata": {},
     "output_type": "execute_result"
    }
   ],
   "source": [
    "df_compact.rename(columns={'Measure A':'Ping (ms)', \n",
    "                           'Measure B': 'Download (Mbit/s)',\n",
    "                           'Measure C': 'Upload (Mbit/s)'}, inplace=True)\n",
    "df_compact.head(3)"
   ]
  },
  {
   "cell_type": "code",
   "execution_count": 20,
   "metadata": {},
   "outputs": [
    {
     "data": {
      "text/html": [
       "<div>\n",
       "<style scoped>\n",
       "    .dataframe tbody tr th:only-of-type {\n",
       "        vertical-align: middle;\n",
       "    }\n",
       "\n",
       "    .dataframe tbody tr th {\n",
       "        vertical-align: top;\n",
       "    }\n",
       "\n",
       "    .dataframe thead th {\n",
       "        text-align: right;\n",
       "    }\n",
       "</style>\n",
       "<table border=\"1\" class=\"dataframe\">\n",
       "  <thead>\n",
       "    <tr style=\"text-align: right;\">\n",
       "      <th></th>\n",
       "      <th>Ping (ms)</th>\n",
       "      <th>Download (Mbit/s)</th>\n",
       "      <th>Upload (Mbit/s)</th>\n",
       "      <th>Datetime</th>\n",
       "    </tr>\n",
       "  </thead>\n",
       "  <tbody>\n",
       "    <tr>\n",
       "      <th>0</th>\n",
       "      <td>26.992</td>\n",
       "      <td>91.80</td>\n",
       "      <td>14.31</td>\n",
       "      <td>2016-11-24 13:36:25</td>\n",
       "    </tr>\n",
       "    <tr>\n",
       "      <th>1</th>\n",
       "      <td>24.532</td>\n",
       "      <td>88.19</td>\n",
       "      <td>14.12</td>\n",
       "      <td>2016-11-24 13:36:55</td>\n",
       "    </tr>\n",
       "    <tr>\n",
       "      <th>2</th>\n",
       "      <td>20.225</td>\n",
       "      <td>59.86</td>\n",
       "      <td>14.11</td>\n",
       "      <td>2016-11-24 13:37:25</td>\n",
       "    </tr>\n",
       "    <tr>\n",
       "      <th>3</th>\n",
       "      <td>19.332</td>\n",
       "      <td>91.81</td>\n",
       "      <td>14.22</td>\n",
       "      <td>2016-11-24 13:37:57</td>\n",
       "    </tr>\n",
       "    <tr>\n",
       "      <th>4</th>\n",
       "      <td>22.494</td>\n",
       "      <td>92.05</td>\n",
       "      <td>14.08</td>\n",
       "      <td>2016-11-24 13:38:27</td>\n",
       "    </tr>\n",
       "    <tr>\n",
       "      <th>5</th>\n",
       "      <td>17.586</td>\n",
       "      <td>91.88</td>\n",
       "      <td>14.18</td>\n",
       "      <td>2016-11-24 13:39:01</td>\n",
       "    </tr>\n",
       "    <tr>\n",
       "      <th>6</th>\n",
       "      <td>21.835</td>\n",
       "      <td>92.18</td>\n",
       "      <td>14.07</td>\n",
       "      <td>2016-11-24 13:39:30</td>\n",
       "    </tr>\n",
       "    <tr>\n",
       "      <th>7</th>\n",
       "      <td>20.464</td>\n",
       "      <td>92.05</td>\n",
       "      <td>14.13</td>\n",
       "      <td>2016-11-24 13:40:00</td>\n",
       "    </tr>\n",
       "    <tr>\n",
       "      <th>8</th>\n",
       "      <td>19.293</td>\n",
       "      <td>90.79</td>\n",
       "      <td>14.14</td>\n",
       "      <td>2016-11-24 13:40:30</td>\n",
       "    </tr>\n",
       "    <tr>\n",
       "      <th>9</th>\n",
       "      <td>20.354</td>\n",
       "      <td>92.64</td>\n",
       "      <td>14.07</td>\n",
       "      <td>2016-11-24 13:41:00</td>\n",
       "    </tr>\n",
       "    <tr>\n",
       "      <th>10</th>\n",
       "      <td>19.010</td>\n",
       "      <td>91.86</td>\n",
       "      <td>14.38</td>\n",
       "      <td>2016-11-24 13:41:30</td>\n",
       "    </tr>\n",
       "    <tr>\n",
       "      <th>11</th>\n",
       "      <td>18.092</td>\n",
       "      <td>92.24</td>\n",
       "      <td>14.23</td>\n",
       "      <td>2016-11-24 13:42:00</td>\n",
       "    </tr>\n",
       "    <tr>\n",
       "      <th>12</th>\n",
       "      <td>18.137</td>\n",
       "      <td>91.64</td>\n",
       "      <td>14.32</td>\n",
       "      <td>2016-11-24 13:42:30</td>\n",
       "    </tr>\n",
       "    <tr>\n",
       "      <th>13</th>\n",
       "      <td>18.344</td>\n",
       "      <td>92.85</td>\n",
       "      <td>14.20</td>\n",
       "      <td>2016-11-24 13:43:00</td>\n",
       "    </tr>\n",
       "    <tr>\n",
       "      <th>14</th>\n",
       "      <td>23.328</td>\n",
       "      <td>92.21</td>\n",
       "      <td>14.20</td>\n",
       "      <td>2016-11-24 13:43:29</td>\n",
       "    </tr>\n",
       "    <tr>\n",
       "      <th>15</th>\n",
       "      <td>17.908</td>\n",
       "      <td>92.24</td>\n",
       "      <td>11.36</td>\n",
       "      <td>2016-11-24 13:43:59</td>\n",
       "    </tr>\n",
       "    <tr>\n",
       "      <th>16</th>\n",
       "      <td>19.291</td>\n",
       "      <td>92.41</td>\n",
       "      <td>14.03</td>\n",
       "      <td>2016-11-24 13:44:31</td>\n",
       "    </tr>\n",
       "    <tr>\n",
       "      <th>17</th>\n",
       "      <td>20.117</td>\n",
       "      <td>90.39</td>\n",
       "      <td>14.17</td>\n",
       "      <td>2016-11-24 13:45:01</td>\n",
       "    </tr>\n",
       "    <tr>\n",
       "      <th>18</th>\n",
       "      <td>19.579</td>\n",
       "      <td>92.55</td>\n",
       "      <td>14.06</td>\n",
       "      <td>2016-11-24 13:45:32</td>\n",
       "    </tr>\n",
       "    <tr>\n",
       "      <th>19</th>\n",
       "      <td>16.364</td>\n",
       "      <td>78.51</td>\n",
       "      <td>13.71</td>\n",
       "      <td>2016-11-24 13:46:02</td>\n",
       "    </tr>\n",
       "  </tbody>\n",
       "</table>\n",
       "</div>"
      ],
      "text/plain": [
       "    Ping (ms)  Download (Mbit/s)  Upload (Mbit/s)             Datetime\n",
       "0      26.992              91.80            14.31  2016-11-24 13:36:25\n",
       "1      24.532              88.19            14.12  2016-11-24 13:36:55\n",
       "2      20.225              59.86            14.11  2016-11-24 13:37:25\n",
       "3      19.332              91.81            14.22  2016-11-24 13:37:57\n",
       "4      22.494              92.05            14.08  2016-11-24 13:38:27\n",
       "5      17.586              91.88            14.18  2016-11-24 13:39:01\n",
       "6      21.835              92.18            14.07  2016-11-24 13:39:30\n",
       "7      20.464              92.05            14.13  2016-11-24 13:40:00\n",
       "8      19.293              90.79            14.14  2016-11-24 13:40:30\n",
       "9      20.354              92.64            14.07  2016-11-24 13:41:00\n",
       "10     19.010              91.86            14.38  2016-11-24 13:41:30\n",
       "11     18.092              92.24            14.23  2016-11-24 13:42:00\n",
       "12     18.137              91.64            14.32  2016-11-24 13:42:30\n",
       "13     18.344              92.85            14.20  2016-11-24 13:43:00\n",
       "14     23.328              92.21            14.20  2016-11-24 13:43:29\n",
       "15     17.908              92.24            11.36  2016-11-24 13:43:59\n",
       "16     19.291              92.41            14.03  2016-11-24 13:44:31\n",
       "17     20.117              90.39            14.17  2016-11-24 13:45:01\n",
       "18     19.579              92.55            14.06  2016-11-24 13:45:32\n",
       "19     16.364              78.51            13.71  2016-11-24 13:46:02"
      ]
     },
     "execution_count": 20,
     "metadata": {},
     "output_type": "execute_result"
    }
   ],
   "source": [
    "df_compact.drop(['Type A', 'Type B', 'Type C',\n",
    "         'Units A', 'Units B', 'Units C'], axis=1, inplace=True)\n",
    "\n",
    "df_compact.head(20)"
   ]
  },
  {
   "cell_type": "code",
   "execution_count": 21,
   "metadata": {},
   "outputs": [],
   "source": [
    "df_compact['Date'] = df_compact['Datetime'].apply(lambda dt_str: pd.to_datetime(dt_str).date())"
   ]
  },
  {
   "cell_type": "code",
   "execution_count": 22,
   "metadata": {},
   "outputs": [],
   "source": [
    "df_compact['Time'] = df_compact['Datetime'].apply(lambda dt_str: pd.to_datetime(dt_str).time())"
   ]
  },
  {
   "cell_type": "code",
   "execution_count": 23,
   "metadata": {},
   "outputs": [
    {
     "data": {
      "text/html": [
       "<div>\n",
       "<style scoped>\n",
       "    .dataframe tbody tr th:only-of-type {\n",
       "        vertical-align: middle;\n",
       "    }\n",
       "\n",
       "    .dataframe tbody tr th {\n",
       "        vertical-align: top;\n",
       "    }\n",
       "\n",
       "    .dataframe thead th {\n",
       "        text-align: right;\n",
       "    }\n",
       "</style>\n",
       "<table border=\"1\" class=\"dataframe\">\n",
       "  <thead>\n",
       "    <tr style=\"text-align: right;\">\n",
       "      <th></th>\n",
       "      <th>Ping (ms)</th>\n",
       "      <th>Download (Mbit/s)</th>\n",
       "      <th>Upload (Mbit/s)</th>\n",
       "      <th>Date</th>\n",
       "      <th>Time</th>\n",
       "    </tr>\n",
       "  </thead>\n",
       "  <tbody>\n",
       "    <tr>\n",
       "      <th>0</th>\n",
       "      <td>26.992</td>\n",
       "      <td>91.80</td>\n",
       "      <td>14.31</td>\n",
       "      <td>2016-11-24</td>\n",
       "      <td>13:36:25</td>\n",
       "    </tr>\n",
       "    <tr>\n",
       "      <th>1</th>\n",
       "      <td>24.532</td>\n",
       "      <td>88.19</td>\n",
       "      <td>14.12</td>\n",
       "      <td>2016-11-24</td>\n",
       "      <td>13:36:55</td>\n",
       "    </tr>\n",
       "    <tr>\n",
       "      <th>2</th>\n",
       "      <td>20.225</td>\n",
       "      <td>59.86</td>\n",
       "      <td>14.11</td>\n",
       "      <td>2016-11-24</td>\n",
       "      <td>13:37:25</td>\n",
       "    </tr>\n",
       "  </tbody>\n",
       "</table>\n",
       "</div>"
      ],
      "text/plain": [
       "   Ping (ms)  Download (Mbit/s)  Upload (Mbit/s)        Date      Time\n",
       "0     26.992              91.80            14.31  2016-11-24  13:36:25\n",
       "1     24.532              88.19            14.12  2016-11-24  13:36:55\n",
       "2     20.225              59.86            14.11  2016-11-24  13:37:25"
      ]
     },
     "execution_count": 23,
     "metadata": {},
     "output_type": "execute_result"
    }
   ],
   "source": [
    "df_compact.drop(['Datetime'], axis=1, inplace=True)\n",
    "\n",
    "df_compact.head(3)"
   ]
  },
  {
   "cell_type": "code",
   "execution_count": 24,
   "metadata": {
    "tags": []
   },
   "outputs": [
    {
     "name": "stdout",
     "output_type": "stream",
     "text": [
      "2016-11-24 <class 'datetime.date'>\n",
      "13:36:25 <class 'datetime.time'>\n"
     ]
    }
   ],
   "source": [
    "print(df_compact['Date'][0], type(df_compact['Date'][0]) )\n",
    "print(df_compact['Time'][0], type(df_compact['Time'][0]) )"
   ]
  },
  {
   "cell_type": "code",
   "execution_count": 25,
   "metadata": {},
   "outputs": [],
   "source": [
    "df_compact.to_csv('./rpi_data_compact.csv')"
   ]
  },
  {
   "cell_type": "code",
   "execution_count": null,
   "metadata": {},
   "outputs": [],
   "source": []
  }
 ],
 "metadata": {
  "kernelspec": {
   "display_name": "Python 3",
   "language": "python",
   "name": "python3"
  },
  "language_info": {
   "codemirror_mode": {
    "name": "ipython",
    "version": 3
   },
   "file_extension": ".py",
   "mimetype": "text/x-python",
   "name": "python",
   "nbconvert_exporter": "python",
   "pygments_lexer": "ipython3",
   "version": "3.7.3"
  }
 },
 "nbformat": 4,
 "nbformat_minor": 2
}
